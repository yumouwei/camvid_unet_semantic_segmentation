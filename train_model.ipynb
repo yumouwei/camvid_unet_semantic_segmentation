{
 "cells": [
  {
   "cell_type": "markdown",
   "id": "6205fdcf",
   "metadata": {},
   "source": [
    "# Train new U-Net model"
   ]
  },
  {
   "cell_type": "code",
   "execution_count": null,
   "id": "b38f38bd",
   "metadata": {},
   "outputs": [],
   "source": [
    "import tensorflow as tf\n",
    "print(tf.__version__)\n",
    "print(tf.config.list_physical_devices('GPU'))"
   ]
  },
  {
   "cell_type": "code",
   "execution_count": null,
   "id": "266f024f",
   "metadata": {},
   "outputs": [],
   "source": [
    "# # Set directory in Colab -- uncomment this block if you want to run on Colab\n",
    "# from google.colab import drive\n",
    "# drive.mount('/content/drive')\n",
    "# %cd /content/drive/My\\ Drive/Colab\\ Notebooks/camvid_unet_semantic_segmentation"
   ]
  },
  {
   "cell_type": "markdown",
   "id": "3a4547d5",
   "metadata": {},
   "source": [
    "## 1. Load data to memory"
   ]
  },
  {
   "cell_type": "code",
   "execution_count": null,
   "id": "71d67ff0",
   "metadata": {},
   "outputs": [],
   "source": [
    "import os\n",
    "import numpy as np\n",
    "import matplotlib.pyplot as plt\n",
    "import pandas as pd\n",
    "\n",
    "from utils import load_data_from_dir"
   ]
  },
  {
   "cell_type": "code",
   "execution_count": null,
   "id": "ee24d219",
   "metadata": {},
   "outputs": [],
   "source": [
    "base_dir = os.getcwd()\n",
    "\n",
    "train_image_df = pd.read_csv(base_dir + '/data/camvid_train.txt', header=None, sep=' ', names=['image', 'mask'])\n",
    "val_image_df = pd.read_csv(base_dir + '/data/camvid_val.txt', header=None, sep=' ', names=['image', 'mask'])\n",
    "test_image_df = pd.read_csv(base_dir + '/data/camvid_test.txt', header=None, sep=' ', names=['image', 'mask'])\n",
    "\n",
    "classes = [\n",
    "    'Sky', 'Building', 'Pole', 'Road', 'Pavement', 'Tree', \n",
    "    'SignSymbol', 'Fence', 'Car', 'Pedestrian', 'Bicyclist',\n",
    "    'Void'\n",
    "    ]\n",
    "\n",
    "n_class = 11  # ignore 'Void' (background) class"
   ]
  },
  {
   "cell_type": "code",
   "execution_count": null,
   "id": "07d3a788",
   "metadata": {},
   "outputs": [],
   "source": [
    "%%time\n",
    "image_dim = (224, 224)  # same as vgg-16\n",
    "train_images, train_masks = load_data_from_dir(train_image_df, True, image_dim)\n",
    "val_images, val_masks = load_data_from_dir(val_image_df, True, image_dim)\n",
    "test_images, test_masks = load_data_from_dir(test_image_df, True, image_dim)"
   ]
  },
  {
   "cell_type": "code",
   "execution_count": null,
   "id": "cfa774a2",
   "metadata": {},
   "outputs": [],
   "source": [
    "print(train_images.shape)\n",
    "print(train_masks.shape)\n",
    "print(val_images.shape)\n",
    "print(val_masks.shape)\n",
    "print(test_images.shape)\n",
    "print(test_masks.shape)"
   ]
  },
  {
   "cell_type": "markdown",
   "id": "cd1fb9f9",
   "metadata": {},
   "source": [
    "## 2. Build U-Net model"
   ]
  },
  {
   "cell_type": "markdown",
   "id": "12f0d095",
   "metadata": {},
   "source": [
    "### 2.1 Use vanilla U-Net architecture"
   ]
  },
  {
   "cell_type": "code",
   "execution_count": null,
   "id": "27ce32c2",
   "metadata": {},
   "outputs": [],
   "source": [
    "from build_model import build_unet\n",
    "\n",
    "unet_model = build_unet(input_shape = train_images.shape[1:], \n",
    "                        num_classes = 11, \n",
    "                        num_filters = 64, \n",
    "                        kernel_size = 3)\n",
    "\n",
    "unet_model.summary()"
   ]
  },
  {
   "cell_type": "markdown",
   "id": "716a0811",
   "metadata": {},
   "source": [
    "### 2.2 Alternatively, use either a pre-trained ResNet50v2 or MobileNetV2 as the encoder"
   ]
  },
  {
   "cell_type": "code",
   "execution_count": null,
   "id": "f938166e",
   "metadata": {},
   "outputs": [],
   "source": [
    "# Use resnet50v2\n",
    "'''\n",
    "from build_model import build_unet_resnet50v2\n",
    "\n",
    "resnet50v2 = tf.keras.applications.ResNet50V2(\n",
    "    include_top=False,\n",
    "    weights=\"imagenet\",\n",
    "    input_shape=train_images.shape[1:],\n",
    "    pooling=None,\n",
    ")\n",
    "\n",
    "# Build model\n",
    "unet_model = build_unet_resnet50v2(encoder = resnet50v2, \n",
    "                                   num_classes = 11, \n",
    "                                   num_filters = 64, \n",
    "                                   kernel_size = 3)\n",
    "\n",
    "unet_model.summary()\n",
    "'''"
   ]
  },
  {
   "cell_type": "code",
   "execution_count": null,
   "id": "414c424e",
   "metadata": {},
   "outputs": [],
   "source": [
    "# Use mobilenetv2\n",
    "'''\n",
    "from build_model import build_unet_resnet50v2\n",
    "\n",
    "mobilenetv2 = tf.keras.applications.MobileNetV2(\n",
    "    include_top=False,\n",
    "    weights=\"imagenet\",\n",
    "    input_shape=train_images.shape[1:],\n",
    "    pooling=None,\n",
    ")\n",
    "\n",
    "unet_model = build_unet_mobilenetv2(encoder = mobilenetv2, \n",
    "                                    num_classes = 11, \n",
    "                                    num_filters = 32, \n",
    "                                    kernel_size = 3)\n",
    "\n",
    "unet_model.summary()\n",
    "'''"
   ]
  },
  {
   "cell_type": "code",
   "execution_count": null,
   "id": "07b6c6c5",
   "metadata": {},
   "outputs": [],
   "source": [
    "# Set loss and compile model\n",
    "\n",
    "tf.keras.backend.clear_session()\n",
    "\n",
    "# Use SCCE loss to save memory\n",
    "SCCE = tf.keras.losses.SparseCategoricalCrossentropy(ignore_class=255) # ignore void class in loss calculation\n",
    "\n",
    "unet_model.compile(optimizer=\"adam\", loss=SCCE, metrics='accuracy')"
   ]
  },
  {
   "cell_type": "code",
   "execution_count": null,
   "id": "5d49e5b1",
   "metadata": {},
   "outputs": [],
   "source": [
    "# Plot network architecture\n",
    "\n",
    "from keras.utils.vis_utils import plot_model\n",
    "plot_model(unet_model, show_shapes=True, show_layer_names=True)"
   ]
  },
  {
   "cell_type": "markdown",
   "id": "b78b5b69",
   "metadata": {},
   "source": [
    "## 3. Train model"
   ]
  },
  {
   "cell_type": "code",
   "execution_count": null,
   "id": "ef6ed4eb",
   "metadata": {},
   "outputs": [],
   "source": [
    "from tensorflow.keras.callbacks import EarlyStopping\n",
    "\n",
    "train_val = False   # Use train & valid sets to optimize hyperparameters\n",
    "train_test = False  # Use all train and valid set data to train a final model and then evaluate on the test set\n",
    "\n",
    "epoch = 100\n",
    "\n",
    "if train_val:\n",
    "\n",
    "    earlystopping = EarlyStopping(monitor=\"val_loss\", patience = 20, restore_best_weights=True)\n",
    "    callbacks_list = [earlystopping]\n",
    "    \n",
    "    history = unet_model.fit(train_images, train_masks, epochs=epochs, callbacks = callbacks_list,\n",
    "                             validation_data=(val_images, val_masks), verbose=2)\n",
    "    \n",
    "    unet_model.evaluate(train_images, train_masks)\n",
    "    unet_model.evaluate(val_images, val_masks)\n",
    "    \n",
    "elif train_test:\n",
    "\n",
    "    history = unet_model.fit(np.concatenate((train_images, val_images), axis=0), \n",
    "                             np.concatenate((train_masks, val_masks), axis=0), \n",
    "                             epochs=epochs, \n",
    "                             verbose=2)\n",
    "    \n",
    "    unet_model.evaluate(train_images, train_masks)\n",
    "    unet_model.evaluate(test_images, test_masks)"
   ]
  },
  {
   "cell_type": "markdown",
   "id": "1b1aa913",
   "metadata": {},
   "source": [
    "### Plot history"
   ]
  },
  {
   "cell_type": "code",
   "execution_count": null,
   "id": "ddd39534",
   "metadata": {},
   "outputs": [],
   "source": [
    "if train_val:\n",
    "    fig, ax = plt.subplots(1,2, figsize=(12, 5))\n",
    "    ax[0].plot(history.history['loss'], label='train')\n",
    "    ax[0].plot(history.history['val_loss'], label='valid')\n",
    "    ax[0].set_title('Loss')\n",
    "    ax[0].legend()\n",
    "    ax[0].grid()\n",
    "    ax[0].set_yscale(\"log\")  \n",
    "\n",
    "    ax[1].plot(history.history['accuracy'], label='train')\n",
    "    ax[1].plot(history.history['val_accuracy'], label='valid')\n",
    "    ax[1].set_title('Accuracy')\n",
    "    ax[1].legend()\n",
    "    ax[1].grid()\n",
    "    ax[1].set_ylim(0.8, 0.95)\n",
    "    plt.show()\n",
    "    \n",
    "elif train_test:\n",
    "    fig, ax = plt.subplots(1,2, figsize=(12, 5))\n",
    "    ax[0].plot(history.history['loss'], label='train')\n",
    "    ax[0].set_title('Loss')\n",
    "    ax[0].legend()\n",
    "    ax[0].grid()\n",
    "    ax[0].set_yscale(\"log\")  \n",
    "\n",
    "\n",
    "    ax[1].plot(history.history['accuracy'], label='train')\n",
    "    ax[1].set_title('Accuracy')\n",
    "    ax[1].legend()\n",
    "    ax[1].grid()\n",
    "    ax[1].set_ylim(0.8, 0.98)\n",
    "    plt.show()"
   ]
  },
  {
   "cell_type": "code",
   "execution_count": null,
   "id": "8ab5fb3a",
   "metadata": {},
   "outputs": [],
   "source": [
    "# Save model\n",
    "save_model = False\n",
    "model_name = 'new_unet_model.h5'\n",
    "\n",
    "if save_model:\n",
    "    unet_model.save(os.path.join(base_dir, 'models', model_name))"
   ]
  }
 ],
 "metadata": {
  "kernelspec": {
   "display_name": "Python 3 (ipykernel)",
   "language": "python",
   "name": "python3"
  },
  "language_info": {
   "codemirror_mode": {
    "name": "ipython",
    "version": 3
   },
   "file_extension": ".py",
   "mimetype": "text/x-python",
   "name": "python",
   "nbconvert_exporter": "python",
   "pygments_lexer": "ipython3",
   "version": "3.9.13"
  }
 },
 "nbformat": 4,
 "nbformat_minor": 5
}
